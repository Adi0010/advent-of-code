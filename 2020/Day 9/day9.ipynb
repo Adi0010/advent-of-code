{
 "metadata": {
  "language_info": {
   "codemirror_mode": {
    "name": "ipython",
    "version": 3
   },
   "file_extension": ".py",
   "mimetype": "text/x-python",
   "name": "python",
   "nbconvert_exporter": "python",
   "pygments_lexer": "ipython3",
   "version": "3.7.7-final"
  },
  "orig_nbformat": 2,
  "kernelspec": {
   "name": "python3",
   "display_name": "Python 3"
  }
 },
 "nbformat": 4,
 "nbformat_minor": 2,
 "cells": [
  {
   "cell_type": "code",
   "execution_count": 3,
   "metadata": {},
   "outputs": [
    {
     "output_type": "stream",
     "name": "stdout",
     "text": [
      "50047984\n5407707\n"
     ]
    }
   ],
   "source": [
    "\n",
    "def part1(lines, n=25):\n",
    "    '''\n",
    "    >>> part1(list(map(str, (35, 20, 15, 25, 47, 40, 62, 55, 65, 95, 102, 117, 150, 182, 127, 219, 299, 277, 309, 576))), n=5)\n",
    "    127\n",
    "    '''\n",
    "    nums = list(map(int, lines))\n",
    "    for i in range(n, len(nums)):\n",
    "        if not any(nums[i] == nums[j] + nums[k] for j in range(i - n, i - 1)\n",
    "                   for k in range(j + 1, i)):\n",
    "            return nums[i]\n",
    "\n",
    "\n",
    "def part2(lines, n=25):\n",
    "    '''\n",
    "    >>> part2(list(map(str, (35, 20, 15, 25, 47, 40, 62, 55, 65, 95, 102, 117, 150, 182, 127, 219, 299, 277, 309, 576))), n=5)\n",
    "    62\n",
    "    '''\n",
    "    nums = list(map(int, lines))\n",
    "    target = part1(nums, n)\n",
    "    total, i, j = 0, 0, 0\n",
    "    while i < len(nums):\n",
    "        if total == target and i + 1 < j:\n",
    "            return min(nums[i:j]) + max(nums[i:j])\n",
    "        elif total < target and j < len(nums):\n",
    "            total += nums[j]\n",
    "            j += 1\n",
    "        else:\n",
    "            total -= nums[i]\n",
    "            i += 1\n",
    "\n",
    "\n",
    "parts = (part1, part2)\n",
    "\n",
    "if __name__ == '__main__':\n",
    "    f = open('input.txt')\n",
    "    a = f.read().split()\n",
    "    a_num = list(map(int,a))\n",
    "    print(part1(a_num))\n",
    "    print(part2(a_num))"
   ]
  },
  {
   "cell_type": "code",
   "execution_count": null,
   "metadata": {},
   "outputs": [],
   "source": []
  }
 ]
}