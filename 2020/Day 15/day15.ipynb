{
 "metadata": {
  "language_info": {
   "codemirror_mode": {
    "name": "ipython",
    "version": 3
   },
   "file_extension": ".py",
   "mimetype": "text/x-python",
   "name": "python",
   "nbconvert_exporter": "python",
   "pygments_lexer": "ipython3",
   "version": "3.7.2-final"
  },
  "orig_nbformat": 2,
  "kernelspec": {
   "name": "python37264bit0f3a6bcaebe24c73ad6c017c9ba5b662",
   "display_name": "Python 3.7.2 64-bit",
   "language": "python"
  }
 },
 "nbformat": 4,
 "nbformat_minor": 2,
 "cells": [
  {
   "cell_type": "code",
   "execution_count": 1,
   "metadata": {},
   "outputs": [
    {
     "output_type": "stream",
     "name": "stdout",
     "text": [
      "517\n",
      "1047739\n"
     ]
    }
   ],
   "source": [
    "PART_ONE = 2020\n",
    "PART_TWO = 30000000\n",
    "\n",
    "def part1(input):\n",
    "    spoken = input.copy()\n",
    "    spoken.reverse()\n",
    "    for i in range(len(input), PART_ONE):\n",
    "        lastnum = spoken[0]\n",
    "        if lastnum in spoken[1:]:\n",
    "            spoken.insert(0, spoken.index(lastnum, 1))\n",
    "        else:\n",
    "            spoken.insert(0, 0)\n",
    "    print(spoken[0])\n",
    "    \n",
    "def part2(input):\n",
    "    spoken = {}\n",
    "    for i, num in enumerate(input):\n",
    "        spoken[num] = i+1\n",
    "\n",
    "    nextnum = input[-1]\n",
    "    for i in range(len(input), PART_TWO):\n",
    "        if nextnum not in spoken:\n",
    "            spoken[nextnum] = i\n",
    "            nextnum = 0\n",
    "        else:\n",
    "            temp = spoken[nextnum]\n",
    "            spoken[nextnum] = i\n",
    "            nextnum = spoken[nextnum] - temp \n",
    "    print(nextnum)\n",
    "    \n",
    "def main():\n",
    "    input = [5,2,8,16,18,0,1]\n",
    "    part1(input)\n",
    "    part2(input)\n",
    "\n",
    "main()"
   ]
  },
  {
   "cell_type": "code",
   "execution_count": null,
   "metadata": {},
   "outputs": [],
   "source": []
  }
 ]
}