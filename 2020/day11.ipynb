{
 "metadata": {
  "language_info": {
   "codemirror_mode": {
    "name": "ipython",
    "version": 3
   },
   "file_extension": ".py",
   "mimetype": "text/x-python",
   "name": "python",
   "nbconvert_exporter": "python",
   "pygments_lexer": "ipython3",
   "version": "3.7.7-final"
  },
  "orig_nbformat": 2,
  "kernelspec": {
   "name": "python3",
   "display_name": "Python 3",
   "language": "python"
  }
 },
 "nbformat": 4,
 "nbformat_minor": 2,
 "cells": [
  {
   "cell_type": "code",
   "execution_count": 48,
   "metadata": {},
   "outputs": [],
   "source": [
    "import re\n",
    "import fileinput\n",
    "from copy import deepcopy"
   ]
  },
  {
   "cell_type": "code",
   "execution_count": 49,
   "metadata": {},
   "outputs": [],
   "source": [
    "p1 = 0\n",
    "p2 = 0"
   ]
  },
  {
   "cell_type": "code",
   "execution_count": 50,
   "metadata": {},
   "outputs": [],
   "source": [
    "L = [list(l.strip()) for l in list(fileinput.input('input.txt'))]\n"
   ]
  },
  {
   "cell_type": "code",
   "execution_count": 51,
   "metadata": {},
   "outputs": [],
   "source": [
    "R = len(L)\n",
    "C = len(L[0])\n"
   ]
  },
  {
   "cell_type": "code",
   "execution_count": 52,
   "metadata": {},
   "outputs": [],
   "source": [
    "while True:\n",
    "    newL = deepcopy(L)\n",
    "    change = False\n",
    "    for r in range(R):\n",
    "        for c in range(C):\n",
    "            nocc = 0\n",
    "            for dr in [-1,0,1]:\n",
    "                for dc in [-1,0,1]:\n",
    "                    if not (dr == 0 and dc == 0):\n",
    "                        rr = r + dr\n",
    "                        cc = c + dc\n",
    "                    if 0 <=rr<R and 0<=cc<C and L[rr][cc]=='#':\n",
    "                        nocc += 1\n",
    "            if L[r][c]=='L':\n",
    "                if nocc == 0:\n",
    "                    newL[r][c] = '#'\n",
    "                    change = True\n",
    "            elif L[r][c] == '#' and nocc >=5:\n",
    "                newL[r][c]='L'\n",
    "                change = True\n",
    "    if not change:\n",
    "        break\n",
    "    L = deepcopy(newL)"
   ]
  },
  {
   "cell_type": "code",
   "execution_count": 53,
   "metadata": {},
   "outputs": [
    {
     "output_type": "stream",
     "name": "stdout",
     "text": [
      "2481\n"
     ]
    }
   ],
   "source": [
    "ans = 0 \n",
    "for r in range(R):\n",
    "    for c in range(C):\n",
    "        if L[r][c]=='#':\n",
    "            ans+=1\n",
    "print(ans)"
   ]
  },
  {
   "cell_type": "code",
   "execution_count": null,
   "metadata": {},
   "outputs": [],
   "source": [
    "while True:\n",
    "    newL = copy.deepcopy(L)\n",
    "    change = False\n",
    "    for r in range(R):\n",
    "        for c in range(C):\n",
    "            nocc = 0\n",
    "            for dr in [-1,0,1]:\n",
    "                for dc in [-1,0,1]:\n",
    "                    if not (dr == 0 and dc == 0):\n",
    "                        rr = r + dr\n",
    "                        cc = c + dc\n",
    "                    while 0 <=rr<R and 0<=cc<C and L[rr][cc]=='.':\n",
    "                        rr = rr + dr\n",
    "                        cc = cc + dc\n",
    "                    if 0 <=rr<R and 0<=cc<C and L[rr][cc]=='#':\n",
    "                        nocc += 1\n",
    "            if L[r][c]=='L':\n",
    "                if nocc == 0:\n",
    "                    newL[r][c] = '#'\n",
    "                    change = True\n",
    "            elif L[r][c] == '#' and nocc >=5:\n",
    "                newL[r][c]='L'\n",
    "                change = True\n",
    "    if not change:\n",
    "        break\n",
    "    L = copy.deepcopy(newL)"
   ]
  },
  {
   "cell_type": "code",
   "execution_count": 55,
   "metadata": {},
   "outputs": [
    {
     "output_type": "stream",
     "name": "stdout",
     "text": [
      "2310\n"
     ]
    }
   ],
   "source": [
    "import sys\n",
    "import copy\n",
    "\n",
    "file = open('input.txt', 'r')\n",
    "seats = [list(line[:-1] if line[-1] == '\\n' else line) for line in file]\n",
    "directions = [(1, 0), (-1, 0), (0, 1), (0, -1), (1, 1), (1, -1), (-1, 1), (-1, -1)]\n",
    "rows = len(seats)\n",
    "cols = len(seats[0])\n",
    "\n",
    "def countOccupied(i, j, seats):\n",
    "    occupied = 0\n",
    "    for x, y in directions:\n",
    "        tx = i + x\n",
    "        ty = j + y\n",
    "        if (tx >= 0 and tx < rows and ty >= 0 and ty < cols):\n",
    "            occupied = occupied + 1 if seats[tx][ty] == '#' else occupied\n",
    "    return occupied\n",
    "\n",
    "def step(seats):\n",
    "    seatsCopy = copy.deepcopy(seats)\n",
    "    for i in range(rows):\n",
    "        for j in range(cols):\n",
    "            if (seats[i][j] == 'L' and countOccupied(i, j, seats) == 0):\n",
    "                seatsCopy[i][j] = '#'\n",
    "            elif (seats[i][j] == '#' and countOccupied(i, j, seats) >= 4):\n",
    "                seatsCopy[i][j] = 'L'\n",
    "    return seatsCopy\n",
    "\n",
    "stepped = None\n",
    "while (stepped != seats):\n",
    "    stepped = seats\n",
    "    seats = step(seats)\n",
    "print(sum(row.count('#') for row in seats))"
   ]
  },
  {
   "cell_type": "code",
   "execution_count": 56,
   "metadata": {},
   "outputs": [
    {
     "output_type": "stream",
     "name": "stdout",
     "text": [
      "2074\n"
     ]
    }
   ],
   "source": [
    "import sys\n",
    "import copy\n",
    "\n",
    "file = open(f'{sys.path[0]}/input.txt', 'r')\n",
    "seats = [list(line[:-1] if line[-1] == '\\n' else line) for line in file]\n",
    "directions = [(1, 0), (-1, 0), (0, 1), (0, -1), (1, 1), (1, -1), (-1, 1), (-1, -1)]\n",
    "rows = len(seats)\n",
    "cols = len(seats[0])\n",
    "\n",
    "def countOccupied(i, j, seats):\n",
    "    occupied = 0\n",
    "    for x, y in directions:\n",
    "        tx, ty = i + x, j + y\n",
    "        while (tx >= 0 and tx < rows and ty >= 0 and ty < cols):\n",
    "            if (seats[tx][ty] != '.'):\n",
    "                occupied = occupied + 1 if seats[tx][ty] == '#' else occupied\n",
    "                break\n",
    "            tx += x\n",
    "            ty += y\n",
    "    return occupied\n",
    "\n",
    "def step(seats):\n",
    "    seatsCopy = copy.deepcopy(seats)\n",
    "    for i in range(rows):\n",
    "        for j in range(cols):\n",
    "            if (seats[i][j] == 'L' and countOccupied(i, j, seats) == 0):\n",
    "                seatsCopy[i][j] = '#'\n",
    "            elif (seats[i][j] == '#' and countOccupied(i, j, seats) >= 5):\n",
    "                seatsCopy[i][j] = 'L'\n",
    "    return seatsCopy\n",
    "\n",
    "stepped = None\n",
    "while (stepped != seats):\n",
    "    stepped = seats\n",
    "    seats = step(seats)\n",
    "print(sum(row.count('#') for row in seats))"
   ]
  },
  {
   "cell_type": "code",
   "execution_count": null,
   "metadata": {},
   "outputs": [],
   "source": []
  }
 ]
}