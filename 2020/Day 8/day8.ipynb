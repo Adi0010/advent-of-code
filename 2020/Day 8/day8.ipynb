{
 "metadata": {
  "language_info": {
   "codemirror_mode": {
    "name": "ipython",
    "version": 3
   },
   "file_extension": ".py",
   "mimetype": "text/x-python",
   "name": "python",
   "nbconvert_exporter": "python",
   "pygments_lexer": "ipython3",
   "version": "3.7.7-final"
  },
  "orig_nbformat": 2,
  "kernelspec": {
   "name": "python3",
   "display_name": "Python 3"
  }
 },
 "nbformat": 4,
 "nbformat_minor": 2,
 "cells": [
  {
   "cell_type": "code",
   "execution_count": 22,
   "metadata": {},
   "outputs": [],
   "source": [
    "f = open('input.txt')\n",
    "a = f.read().strip().split(\"\\n\")\n"
   ]
  },
  {
   "cell_type": "code",
   "execution_count": 23,
   "metadata": {},
   "outputs": [
    {
     "output_type": "stream",
     "name": "stdout",
     "text": [
      "acc -7\nacc +6\nacc +4\nnop +191\njmp +199\nacc +44\nacc -9\njmp +505\nacc -12\nacc +45\njmp +204\njmp +129\nacc +17\nnop +287\njmp +584\nacc +16\njmp +363\nacc +4\nnop +142\nacc +34\nnop +345\njmp +522\njmp +53\nacc -10\njmp +524\njmp +492\njmp +319\nacc -9\njmp +550\nacc -19\njmp +15\nacc +24\njmp +30\nacc -19\nacc +12\nacc -2\njmp +274\nnop +91\nacc +10\nacc +4\njmp +501\nacc +49\nacc +29\njmp +488\njmp +504\njmp +277\nacc +20\nacc +34\njmp -40\nacc +10\nacc -4\nacc -19\nacc +38\njmp +239\nacc -16\nacc -3\nnop +513\njmp +526\njmp +131\nnop +539\nacc -11\njmp +470\nacc +30\njmp +166\nacc +17\nacc -16\nnop +315\njmp +364\nacc +15\nnop -61\nacc -12\nnop +147\njmp -31\nacc -9\njmp +324\nacc +0\njmp +1\njmp +321\nacc +0\nacc +6\nacc -17\nacc +13\njmp +461\njmp +184\nacc +22\njmp +182\njmp +504\nnop +131\nacc +12\nacc -6\nacc +29\njmp +187\nacc +17\njmp +67\njmp -2\nacc +50\nacc +17\njmp +442\nacc +8\nnop +146\nacc -12\nacc +32\njmp +237\njmp +1\nacc +34\nacc +1\nacc +18\njmp +274\nacc +17\nacc -12\njmp +282\nacc +49\nacc +11\nacc +28\nacc +40\njmp +79\nacc +19\nacc -8\nnop +87\njmp +347\nacc +48\nnop +189\njmp +419\nacc +31\njmp +1\nacc +31\njmp +1\njmp -94\nnop -45\nnop +412\nacc -14\nacc +35\njmp -49\njmp +177\njmp +127\njmp +360\njmp +114\nacc -11\nnop +248\njmp -64\nacc +31\nacc +23\nacc +4\nnop +110\njmp +61\nacc +45\nnop +444\njmp +218\njmp -131\nacc +36\njmp -142\nnop +361\nacc -3\nacc +6\njmp +161\nacc +24\nacc -7\nacc +4\nacc +31\njmp +91\njmp -20\njmp +1\nnop -11\njmp -146\nacc +25\nacc +33\njmp +52\nacc -7\njmp +82\nacc +7\nacc +21\nacc +6\njmp +397\nacc +12\nacc +5\nacc -9\nacc +24\njmp +371\nacc +50\nacc +47\nacc +19\njmp +238\njmp +396\nacc -16\nnop +394\njmp +180\nacc +1\nacc +40\njmp +237\nacc +22\nnop -30\njmp -129\nacc +22\njmp +232\nacc +23\nacc +27\nacc +47\njmp +133\nacc +0\nnop +30\nacc +11\nacc -9\njmp +381\njmp +75\njmp -64\nacc -15\nacc +29\nacc +49\njmp +195\nnop +113\nacc -16\nnop +312\nacc +6\njmp -44\nacc +26\nacc +40\njmp +272\njmp +83\njmp +365\nacc +24\nacc +4\njmp +29\nacc +8\njmp -137\nacc +13\njmp +1\nacc +33\nnop -182\njmp +22\njmp +9\nnop +20\nacc +14\nnop +291\njmp -28\njmp -83\nacc +18\nacc +5\njmp +32\nacc +48\nnop -128\nacc +28\njmp +225\nacc +29\nnop +280\njmp +304\nacc +37\nacc +50\nacc +30\njmp +131\njmp -60\nacc +27\njmp +272\njmp +358\nacc -1\nacc +37\njmp +203\nacc +1\nacc +37\nacc +12\nacc -16\njmp +263\nacc -16\nacc +30\njmp +86\nacc +26\nacc +6\njmp +344\njmp -147\njmp -185\nacc -5\nacc -3\nacc +7\nacc +9\njmp -205\nnop -85\nacc -4\nacc -1\njmp +266\nacc +19\nnop -143\nacc -3\njmp -12\nacc +12\nacc -18\njmp +326\nacc +39\njmp +165\nnop -279\nacc +19\nacc +46\nacc +5\njmp -163\nacc -13\njmp +1\nacc +33\nacc +44\njmp -62\nacc -10\nacc +7\njmp +240\nacc -19\njmp -190\nacc -12\njmp -167\nacc -2\nnop -288\nacc -13\njmp +303\nacc +24\njmp -283\njmp +309\nnop +190\nacc +38\nacc -12\njmp -47\nacc +15\nacc +31\njmp -259\nnop +154\nacc +25\nacc +8\njmp -295\nacc +37\nacc +34\nacc -18\nacc +41\njmp +156\nacc +17\nacc +37\njmp -243\nnop -318\nacc +45\nacc +33\njmp +139\nacc -6\nacc +34\nacc +25\nacc +3\njmp +260\njmp +1\nacc +24\njmp +154\nacc +34\nacc -19\njmp +211\nacc +28\njmp +98\nacc +45\njmp -143\nacc +41\nacc +8\nacc +33\nnop +217\njmp +119\nacc +21\njmp -150\nacc +25\nacc +19\njmp +1\nacc +20\njmp +209\nacc +43\nacc +18\nacc +2\njmp -159\nacc +25\nacc +20\nacc -4\nacc +45\njmp +89\nnop +33\nacc +27\njmp +190\nacc +47\nacc +36\njmp +180\nacc +3\njmp +1\njmp -349\njmp -6\njmp -244\nacc +2\nacc +42\njmp -357\nacc +3\njmp -377\nacc +31\nnop -292\nacc +6\nacc +9\njmp -212\njmp -91\nacc +11\njmp +119\nacc -18\nacc +38\nacc +31\njmp -261\njmp +1\nacc +2\njmp -197\nacc +0\njmp +1\nacc +40\nacc +31\nacc +4\nacc +45\njmp -68\nacc -17\nacc +8\nnop -384\njmp -193\nacc +22\nnop +170\nacc -19\nacc +34\njmp -321\nacc +46\njmp +130\nacc -19\njmp +115\nacc -12\nacc +23\nacc +16\njmp -94\nacc +11\nnop -286\njmp -276\nacc +36\nacc +25\njmp -32\nacc +6\nacc +39\njmp +171\nacc -5\nnop -131\njmp -368\nacc +41\nacc -7\nnop -336\njmp -428\nacc +21\nacc +45\njmp -225\nacc -2\nacc +14\nacc +29\njmp -439\nacc +36\nacc +26\njmp -433\nacc +29\nacc +36\nacc +31\njmp -232\nnop -210\nnop -44\njmp -382\nnop -119\nacc +43\njmp +1\njmp -24\nacc -13\nacc +22\nacc +16\njmp +90\nnop -443\nacc +23\nacc +15\nacc -3\njmp -225\njmp -448\nacc +21\nacc -19\nacc +23\njmp +1\njmp -447\nacc +36\nacc -1\nacc +31\nnop +8\njmp +97\njmp -96\nacc -16\nacc +7\nacc -2\njmp +1\njmp -237\njmp +1\nacc -12\nacc +29\nacc -1\njmp -188\nacc +8\njmp -453\nnop -234\nacc +46\nacc +20\nacc +24\njmp -68\njmp -178\nacc +42\njmp -469\nacc +19\nacc +35\njmp -4\nacc +49\njmp +65\nnop +15\nnop -209\nacc +27\njmp -261\nacc +15\njmp -344\nacc +13\nacc +43\njmp -194\njmp +1\njmp -335\nnop -424\nacc -13\nnop -387\njmp -333\nacc +33\nacc +30\njmp -272\nacc +16\nacc +5\nacc +21\nacc +41\njmp -312\nacc +50\njmp -429\nnop +57\njmp -212\nacc +7\nacc -13\njmp -252\njmp -277\njmp -114\njmp -528\njmp -40\njmp -275\nacc +27\nnop -322\njmp -356\nacc -11\njmp -96\nnop -9\nacc -15\njmp -194\nacc +9\nacc +47\nacc +44\njmp -459\nacc -2\nacc -12\nnop -354\njmp -166\nacc +44\nacc +23\njmp -503\nacc +47\nacc +39\nacc +10\nacc +14\njmp -543\nacc +43\njmp -25\njmp -52\nacc -19\njmp -423\nacc +35\nacc +22\nacc +10\nacc +16\njmp -527\njmp -482\nacc +2\nacc +21\nacc -17\njmp -417\njmp -282\nacc +16\nnop -424\nnop -527\njmp -207\nacc +23\nacc +21\njmp -503\nacc +17\nacc -14\njmp -189\nacc +43\nacc +14\nacc +11\nnop -427\njmp -54\nacc +8\nnop -37\nnop -542\njmp -332\nacc +27\njmp +7\njmp -98\nacc +50\nacc +0\nacc +48\nacc +0\njmp -517\nacc +15\nacc +10\njmp -478\njmp -141\nacc +0\nacc +18\njmp -468\nacc +49\njmp -112\nnop -536\nacc -14\nacc -13\nacc +34\njmp +1\n"
     ]
    },
    {
     "output_type": "error",
     "ename": "IndexError",
     "evalue": "list index out of range",
     "traceback": [
      "\u001b[0;31m---------------------------------------------------------------------------\u001b[0m",
      "\u001b[0;31mIndexError\u001b[0m                                Traceback (most recent call last)",
      "\u001b[0;32m<ipython-input-23-3061bdc77717>\u001b[0m in \u001b[0;36m<module>\u001b[0;34m\u001b[0m\n\u001b[1;32m      1\u001b[0m \u001b[0mip\u001b[0m \u001b[0;34m=\u001b[0m \u001b[0;36m0\u001b[0m\u001b[0;34m\u001b[0m\u001b[0;34m\u001b[0m\u001b[0m\n\u001b[1;32m      2\u001b[0m \u001b[0;32mwhile\u001b[0m \u001b[0;32mTrue\u001b[0m\u001b[0;34m:\u001b[0m\u001b[0;34m\u001b[0m\u001b[0;34m\u001b[0m\u001b[0m\n\u001b[0;32m----> 3\u001b[0;31m     \u001b[0mcmd\u001b[0m \u001b[0;34m=\u001b[0m \u001b[0ma\u001b[0m\u001b[0;34m[\u001b[0m\u001b[0mip\u001b[0m\u001b[0;34m]\u001b[0m\u001b[0;34m\u001b[0m\u001b[0;34m\u001b[0m\u001b[0m\n\u001b[0m\u001b[1;32m      4\u001b[0m     \u001b[0mip\u001b[0m \u001b[0;34m+=\u001b[0m \u001b[0;36m1\u001b[0m\u001b[0;34m\u001b[0m\u001b[0;34m\u001b[0m\u001b[0m\n\u001b[1;32m      5\u001b[0m     \u001b[0mprint\u001b[0m\u001b[0;34m(\u001b[0m\u001b[0mcmd\u001b[0m\u001b[0;34m)\u001b[0m\u001b[0;34m\u001b[0m\u001b[0;34m\u001b[0m\u001b[0m\n",
      "\u001b[0;31mIndexError\u001b[0m: list index out of range"
     ]
    }
   ],
   "source": [
    "ip = 0\n",
    "seen = set()\n",
    "while True:\n",
    "    cmd = a[ip]\n",
    "        while 0 <= pc < len(data) and pc not in seen:\n",
    "        i, n = data[pc].split()\n",
    "        seen.add(pc)\n",
    "        if i == 'a':\n",
    "            acc += int(n)\n",
    "        elif i == 'j':\n",
    "            pc += int(n)\n",
    "            continue\n",
    "        pc += 1\n",
    "\n",
    "    return pc, acc"
   ]
  },
  {
   "cell_type": "code",
   "execution_count": 24,
   "metadata": {},
   "outputs": [
    {
     "output_type": "stream",
     "name": "stdout",
     "text": [
      "2058\n1000\n"
     ]
    }
   ],
   "source": [
    "\n",
    "def program(data):\n",
    "    seen = set()\n",
    "    acc = pc = 0\n",
    "    while 0 <= pc < len(data) and pc not in seen:\n",
    "        i, n = data[pc].split()\n",
    "        seen.add(pc)\n",
    "        if i == 'a':\n",
    "            acc += int(n)\n",
    "        elif i == 'j':\n",
    "            pc += int(n)\n",
    "            continue\n",
    "        pc += 1\n",
    "\n",
    "    return pc, acc\n",
    "\n",
    "\n",
    "with open('input.txt') as f:\n",
    "    data = [line[0] + line[3:] for line in f]\n",
    "\n",
    "print(program(data)[1])\n",
    "for j in range(len(data)):\n",
    "    if 'a' not in data[j]:\n",
    "        data[j] = data[j].translate(str.maketrans('nj', 'jn'))\n",
    "        pc, acc = program(data)\n",
    "        data[j] = data[j].translate(str.maketrans('nj', 'jn'))\n",
    "        if pc == len(data):\n",
    "            print(acc)\n",
    "            break"
   ]
  },
  {
   "cell_type": "code",
   "execution_count": null,
   "metadata": {},
   "outputs": [],
   "source": []
  }
 ]
}